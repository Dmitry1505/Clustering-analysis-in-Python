{
  "nbformat": 4,
  "nbformat_minor": 0,
  "metadata": {
    "colab": {
      "provenance": [],
      "authorship_tag": "ABX9TyPsp4TZrVWiINlZab0sWeZT",
      "include_colab_link": true
    },
    "kernelspec": {
      "name": "python3",
      "display_name": "Python 3"
    },
    "language_info": {
      "name": "python"
    }
  },
  "cells": [
    {
      "cell_type": "markdown",
      "metadata": {
        "id": "view-in-github",
        "colab_type": "text"
      },
      "source": [
        "<a href=\"https://colab.research.google.com/github/Dmitry1505/Clustering-analysis-in-Python/blob/main/%D0%9A%D0%BE%D0%BF%D0%B8%D1%8F_%D0%B1%D0%BB%D0%BE%D0%BA%D0%BD%D0%BE%D1%82%D0%B0_%22Clustering_analysis_in_Python_ipynb%22.ipynb\" target=\"_parent\"><img src=\"https://colab.research.google.com/assets/colab-badge.svg\" alt=\"Open In Colab\"/></a>"
      ]
    },
    {
      "cell_type": "code",
      "source": [
        "import numpy as np\n",
        "import pandas as pd\n",
        "from sklearn.cluster import KMeans\n",
        "\n",
        "x = [4, 5, 2, 3, 5, 2, 4, 6, 7, 54, 32, 54, 123, 65, 3421, 67, 43, 76, 432, 765, 32]\n",
        "X = np.array(x).reshape(-1, 1)\n",
        "\n",
        "kmeans = KMeans(n_clusters=3, random_state=42)\n",
        "kmeans.fit(X)\n",
        "labels = kmeans.predict(X)\n",
        "\n",
        "# Добавляем метки кластеров к массиву x\n",
        "x = np.column_stack((x, labels))\n",
        "\n",
        "# Создаем DataFrame и добавляем столбец с метками кластеров\n",
        "df = pd.DataFrame(x, columns=['Number', 'Cluster'])\n",
        "\n",
        "# Выводим числа, отнесенные к каждому кластеру\n",
        "for cluster_id in df['Cluster'].unique():\n",
        "    cluster = df[df['Cluster'] == cluster_id]['Number']\n",
        "    print(f'Cluster {cluster_id}: {list(cluster)}')\n",
        "\n",
        "plt.scatter(X, np.zeros_like(X), c=labels, cmap='viridis')\n",
        "plt.show()"
      ],
      "metadata": {
        "colab": {
          "base_uri": "https://localhost:8080/",
          "height": 352
        },
        "id": "BNF5i75B0Ob-",
        "outputId": "0ffc3061-723e-4142-edc3-51adf76e54f4"
      },
      "execution_count": null,
      "outputs": [
        {
          "output_type": "stream",
          "name": "stdout",
          "text": [
            "Cluster 0: [4, 5, 2, 3, 5, 2, 4, 6, 7, 54, 32, 54, 123, 65, 67, 43, 76, 32]\n",
            "Cluster 1: [3421]\n",
            "Cluster 2: [432, 765]\n"
          ]
        },
        {
          "output_type": "stream",
          "name": "stderr",
          "text": [
            "/usr/local/lib/python3.9/dist-packages/sklearn/cluster/_kmeans.py:870: FutureWarning: The default value of `n_init` will change from 10 to 'auto' in 1.4. Set the value of `n_init` explicitly to suppress the warning\n",
            "  warnings.warn(\n"
          ]
        },
        {
          "output_type": "display_data",
          "data": {
            "text/plain": [
              "<Figure size 432x288 with 1 Axes>"
            ],
            "image/png": "[encoded data removed]"
          },
          "metadata": {
            "needs_background": "light"
          }
        }
      ]
    }
  ]
}